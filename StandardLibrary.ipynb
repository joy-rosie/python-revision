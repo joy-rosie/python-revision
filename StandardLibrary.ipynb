{
 "cells": [
  {
   "cell_type": "code",
   "execution_count": 34,
   "id": "geological-applicant",
   "metadata": {},
   "outputs": [],
   "source": [
    "from IPython.display import Markdown"
   ]
  },
  {
   "cell_type": "markdown",
   "id": "standard-handling",
   "metadata": {},
   "source": [
    "# Python Standard Library"
   ]
  },
  {
   "cell_type": "markdown",
   "id": "helpful-reserve",
   "metadata": {},
   "source": [
    "## General \n",
    "- Everything in Python is a class, a module is a class, a function is also a class!\n",
    "- Python has different runtimes with the most popular one being CPython and the others can be found at https://www.python.org/download/alternatives/\n",
    "    - IronPython to run on .NET\n",
    "    - Jython to run on a Java Virtual Machine\n",
    "    - PyPy for speed with a JIT (just in time) compiler, podcast episode at https://talkpython.fm/episodes/show/172/nuitka-a-full-python-compiler\n",
    "- More information on CPython can be found at https://realpython.com/cpython-source-code-guide\n",
    "- Everything we talk about today will be about CPython\n",
    "- Python glossary: https://docs.python.org/3/glossary.html"
   ]
  },
  {
   "cell_type": "markdown",
   "id": "northern-colon",
   "metadata": {},
   "source": [
    "## Python Keywords"
   ]
  },
  {
   "cell_type": "markdown",
   "id": "latin-rolling",
   "metadata": {},
   "source": [
    "- There are 35 keywords in Python which we as users/developers cannot assign as variable names\n",
    "- We would get a `SyntaxError` if we try to define them\n",
    "- We can find the keywords in Python docs https://docs.python.org/3/reference/lexical_analysis.html#keywords\n",
    "- We can find them using the following code:"
   ]
  },
  {
   "cell_type": "code",
   "execution_count": 2,
   "id": "cardiovascular-arthur",
   "metadata": {},
   "outputs": [
    {
     "name": "stdout",
     "output_type": "stream",
     "text": [
      "\n",
      "Here is a list of the Python keywords.  Enter any keyword to get more help.\n",
      "\n",
      "False               class               from                or\n",
      "None                continue            global              pass\n",
      "True                def                 if                  raise\n",
      "and                 del                 import              return\n",
      "as                  elif                in                  try\n",
      "assert              else                is                  while\n",
      "async               except              lambda              with\n",
      "await               finally             nonlocal            yield\n",
      "break               for                 not                 \n",
      "\n"
     ]
    }
   ],
   "source": [
    "help('keywords')"
   ]
  },
  {
   "cell_type": "markdown",
   "id": "about-czech",
   "metadata": {},
   "source": [
    "## Built In Functions\n",
    "\n",
    "- Similar to keywords, Python also has a list of built in functions which can be found at https://docs.python.org/3/library/functions.html\n",
    "- We will touch on some important ones here but then talk more about some of them in the dunder methods section"
   ]
  },
  {
   "cell_type": "markdown",
   "id": "beginning-receiver",
   "metadata": {},
   "source": [
    "### [`type()`](https://docs.python.org/3/library/functions.html#type)\n",
    "\n",
    "- This returns the type of the input object"
   ]
  },
  {
   "cell_type": "code",
   "execution_count": 3,
   "id": "afraid-queen",
   "metadata": {},
   "outputs": [
    {
     "data": {
      "text/plain": [
       "int"
      ]
     },
     "execution_count": 3,
     "metadata": {},
     "output_type": "execute_result"
    }
   ],
   "source": [
    "type(0)"
   ]
  },
  {
   "cell_type": "code",
   "execution_count": 4,
   "id": "systematic-pattern",
   "metadata": {},
   "outputs": [
    {
     "data": {
      "text/plain": [
       "float"
      ]
     },
     "execution_count": 4,
     "metadata": {},
     "output_type": "execute_result"
    }
   ],
   "source": [
    "type(0.)"
   ]
  },
  {
   "cell_type": "markdown",
   "id": "floppy-trader",
   "metadata": {},
   "source": [
    "###  [`isinstance()`](https://docs.python.org/3/library/functions.html#isinstance)\n",
    "\n",
    "- This takes in an object and an object type and returns a boolean, we can use this to check if an object is a given type"
   ]
  },
  {
   "cell_type": "code",
   "execution_count": 5,
   "id": "following-pattern",
   "metadata": {},
   "outputs": [
    {
     "data": {
      "text/plain": [
       "True"
      ]
     },
     "execution_count": 5,
     "metadata": {},
     "output_type": "execute_result"
    }
   ],
   "source": [
    "isinstance(0, int)"
   ]
  },
  {
   "cell_type": "code",
   "execution_count": 6,
   "id": "breeding-bottom",
   "metadata": {},
   "outputs": [
    {
     "data": {
      "text/plain": [
       "False"
      ]
     },
     "execution_count": 6,
     "metadata": {},
     "output_type": "execute_result"
    }
   ],
   "source": [
    "isinstance(0., int)"
   ]
  },
  {
   "cell_type": "markdown",
   "id": "blocked-bermuda",
   "metadata": {},
   "source": [
    "### [`enumerate()`](https://docs.python.org/3/library/functions.html#enumerate)\n",
    "\n",
    "- This functions takes in an iterator/iterable object and outputs a tuple `(index, item)` which allows us to access the numerical index of the item\n",
    "- This is normally encouraged to be used instead of a counter"
   ]
  },
  {
   "cell_type": "code",
   "execution_count": 7,
   "id": "seeing-international",
   "metadata": {},
   "outputs": [
    {
     "name": "stdout",
     "output_type": "stream",
     "text": [
      "index=0: item=a\n",
      "index=1: item=b\n",
      "index=2: item=c\n"
     ]
    }
   ],
   "source": [
    "counter = 0\n",
    "\n",
    "for item in ['a', 'b', 'c']:\n",
    "    print(f'index={counter}: item={item}')\n",
    "    counter += 1"
   ]
  },
  {
   "cell_type": "code",
   "execution_count": 8,
   "id": "worse-technical",
   "metadata": {},
   "outputs": [
    {
     "name": "stdout",
     "output_type": "stream",
     "text": [
      "index=0: item=a\n",
      "index=1: item=b\n",
      "index=2: item=c\n"
     ]
    }
   ],
   "source": [
    "for index, item in enumerate(['a', 'b', 'c']):\n",
    "    print(f'index={index}: item={item}')"
   ]
  },
  {
   "cell_type": "markdown",
   "id": "intimate-overview",
   "metadata": {},
   "source": [
    "### [`getattr()`](https://docs.python.org/3/library/functions.html#getattr), [`hasattr()`](https://docs.python.org/3/library/functions.html#hasattr), [`setattr()`](https://docs.python.org/3/library/functions.html#setattr), [`delattr()`](https://docs.python.org/3/library/functions.html#delattr)\n",
    "\n",
    "- These all take in an object then a string (and finally a value for `setattr()`) as arguments  to get/set/check if exists an attribute for a given object\n",
    "- This is useful for making attributes of object accessible in a dynamic way i.e. `x.y` is the same has `getattr(x, 'y')`    "
   ]
  },
  {
   "cell_type": "code",
   "execution_count": 9,
   "id": "different-retirement",
   "metadata": {},
   "outputs": [],
   "source": [
    "class Fruit:\n",
    "    def __init__(self, name):\n",
    "        self.name = name\n",
    "        \n",
    "fruit = Fruit('Apple')"
   ]
  },
  {
   "cell_type": "code",
   "execution_count": 10,
   "id": "cross-alloy",
   "metadata": {},
   "outputs": [
    {
     "data": {
      "text/markdown": [
       "We can get the attribute `name` by `fruit.name`: Apple"
      ],
      "text/plain": [
       "<IPython.core.display.Markdown object>"
      ]
     },
     "metadata": {},
     "output_type": "display_data"
    },
    {
     "data": {
      "text/markdown": [
       "We can also use `getattr(fruit, \"name\")`: Apple"
      ],
      "text/plain": [
       "<IPython.core.display.Markdown object>"
      ]
     },
     "metadata": {},
     "output_type": "display_data"
    }
   ],
   "source": [
    "display(Markdown(f'We can get the attribute `name` by `fruit.name`: {fruit.name}'))\n",
    "\n",
    "display(Markdown(f'We can also use `getattr(fruit, \"name\")`: {getattr(fruit, \"name\")}'))"
   ]
  },
  {
   "cell_type": "markdown",
   "id": "durable-default",
   "metadata": {},
   "source": [
    "### [`sorted()`](https://docs.python.org/3/library/functions.html#sorted)\n",
    "\n",
    "- This takes in an iterable object and outputs the sorted object\n",
    "- The underlying items have to have `__lt__` dunder method implemented which we will talk about in the next section\n",
    "    "
   ]
  },
  {
   "cell_type": "code",
   "execution_count": 11,
   "id": "incoming-separate",
   "metadata": {},
   "outputs": [
    {
     "name": "stdout",
     "output_type": "stream",
     "text": [
      "[2, 2, 4, 4, 5, 6]\n"
     ]
    }
   ],
   "source": [
    "sequence = [4, 2, 5, 2, 4, 6]\n",
    "\n",
    "sorted_sequence = sorted(sequence)\n",
    "\n",
    "print(sorted_sequence)"
   ]
  },
  {
   "cell_type": "markdown",
   "id": "animated-ireland",
   "metadata": {},
   "source": [
    "### [`sum()`](https://docs.python.org/3/library/functions.html#sum), [`min()`](https://docs.python.org/3/library/functions.html#min), [`max()`](https://docs.python.org/3/library/functions.html#max)\n",
    "\n",
    "- These are aggregator functions "
   ]
  },
  {
   "cell_type": "code",
   "execution_count": 12,
   "id": "public-profession",
   "metadata": {},
   "outputs": [
    {
     "name": "stdout",
     "output_type": "stream",
     "text": [
      "Sum: 23\n",
      "Min: 2\n",
      "Max: 6\n"
     ]
    }
   ],
   "source": [
    "sequence = [4, 2, 5, 2, 4, 6]\n",
    "\n",
    "print(f'Sum: {sum(sequence)}')\n",
    "print(f'Min: {min(sequence)}')\n",
    "print(f'Max: {max(sequence)}')"
   ]
  },
  {
   "cell_type": "markdown",
   "id": "fleet-victor",
   "metadata": {},
   "source": [
    "### [`any()`](https://docs.python.org/3/library/functions.html#any), [`all()`](https://docs.python.org/3/library/functions.html#all)\n",
    "\n",
    "- These are aggregator functions for an iterable containing booleans    "
   ]
  },
  {
   "cell_type": "code",
   "execution_count": 15,
   "id": "light-proof",
   "metadata": {},
   "outputs": [
    {
     "name": "stdout",
     "output_type": "stream",
     "text": [
      "Any: True\n",
      "All: False\n"
     ]
    }
   ],
   "source": [
    "sequence = [True, True, False]\n",
    "\n",
    "print(f'Any: {any(sequence)}')\n",
    "print(f'All: {all(sequence)}')"
   ]
  },
  {
   "cell_type": "markdown",
   "id": "excessive-building",
   "metadata": {},
   "source": [
    "### [`map()`](https://docs.python.org/3/library/functions.html#map) and [`filter()`](https://docs.python.org/3/library/functions.html#filter)\n",
    "\n",
    "- These are used on iterables and outputs an iterator so you have to convert to list or iterate through it to get the values"
   ]
  },
  {
   "cell_type": "code",
   "execution_count": 21,
   "id": "corporate-stranger",
   "metadata": {},
   "outputs": [
    {
     "data": {
      "text/markdown": [
       "Add one to each element using map `list(map(lambda x: x + 1, sequence))`: [5, 3, 6, 3, 5, 7]"
      ],
      "text/plain": [
       "<IPython.core.display.Markdown object>"
      ]
     },
     "metadata": {},
     "output_type": "display_data"
    },
    {
     "data": {
      "text/markdown": [
       "Filter out all 2s `list(map(lambda x: x + 1, sequence))`: [4, 5, 4, 6]"
      ],
      "text/plain": [
       "<IPython.core.display.Markdown object>"
      ]
     },
     "metadata": {},
     "output_type": "display_data"
    }
   ],
   "source": [
    "sequence = [4, 2, 5, 2, 4, 6]\n",
    "\n",
    "display(Markdown(f'Add one to each element using map `list(map(lambda x: x + 1, sequence))`: {list(map(lambda x: x + 1, sequence))}'))\n",
    "\n",
    "display(Markdown(f'Filter out all 2s `list(map(lambda x: x + 1, sequence))`: {list(filter(lambda x: x != 2, sequence))}'))"
   ]
  },
  {
   "cell_type": "markdown",
   "id": "emotional-money",
   "metadata": {},
   "source": [
    "### Other functions\n",
    "\n",
    "- [`dir()`](https://docs.python.org/3/library/functions.html#dir): This function takes in an object and returns the list of attributes/methods for that object, this can be used for modules as well\n",
    "- [`id()`](https://docs.python.org/3/library/functions.html#id): This function takes in an object and returns a unique int identifying that specific object in runtime\n",
    "- [`input()`](https://docs.python.org/3/library/functions.html#input): This pauses runtime to allow for user input\n",
    "- [`help()`](https://docs.python.org/3/library/functions.html#help): This function takes in an object and returns a string with some documentation\n",
    "- [`reversed()`](https://docs.python.org/3/library/functions.html#reversed): This takes in an iterable object and outputs an iterator which is revered\n",
    "- [`globals()`](https://docs.python.org/3/library/functions.html#globals) and [`locals()`](https://docs.python.org/3/library/functions.html#locals): These functions don't take any arguments and output a dictionary of variables"
   ]
  },
  {
   "cell_type": "markdown",
   "id": "stylish-corner",
   "metadata": {},
   "source": [
    "## Dunder (Double Underscore) / Magic Methods\n",
    "\n",
    "- Dunder methods can be defined for user defined objects to allow for built in functions and operators to be used on these objects\n",
    "- More detailed information can be found in https://docs.python.org/3/reference/datamodel.html"
   ]
  },
  {
   "cell_type": "markdown",
   "id": "adult-thumbnail",
   "metadata": {},
   "source": [
    "### [`__init__`](https://docs.python.org/3/reference/datamodel.html#object.__init__)\n",
    "\n",
    "- This method is called when an instance of an object is created"
   ]
  },
  {
   "cell_type": "markdown",
   "id": "attended-scratch",
   "metadata": {},
   "source": [
    "### [`__new__`](https://docs.python.org/3/reference/datamodel.html#object.__new__)\n",
    "\n",
    "- Not sure...never used, something to do with the actual creation of the instance"
   ]
  },
  {
   "cell_type": "markdown",
   "id": "handmade-contemporary",
   "metadata": {},
   "source": [
    "### [`__del__`](https://docs.python.org/3/reference/datamodel.html#object.__del__)\n",
    "\n",
    "- Again never used but it is called just before when the object is destroyed"
   ]
  },
  {
   "cell_type": "markdown",
   "id": "confused-pavilion",
   "metadata": {},
   "source": [
    "### [`__repr__`](https://docs.python.org/3/reference/datamodel.html#object.__repr__) and [`__str__`](https://docs.python.org/3/reference/datamodel.html#object.__str__)\n",
    "\n",
    "- These two methods allow the built in methods `repr()` and `str()` to be called on an object, both of these methods output a str\n",
    "- These are normally useful for debugging and printing purposes\n",
    "- The difference between `__repr__` and `__str__`\n",
    "    - `__repr__` should be a formal \"complete\" representation of the object, so one could recreate the object completely from the output\n",
    "    - `__str__` is more informal, short and nicely printable version of a string representing the object\n",
    "- If no `__str__` is refined then `__repr__` will be used by default"
   ]
  },
  {
   "cell_type": "markdown",
   "id": "agricultural-kidney",
   "metadata": {},
   "source": [
    "### [`__lt__`](https://docs.python.org/3/reference/datamodel.html#object.__lt__), [ `__le__`](https://docs.python.org/3/reference/datamodel.html#object.__le__), [`__eq__`](https://docs.python.org/3/reference/datamodel.html#object.__eq__), [`__ne__`](https://docs.python.org/3/reference/datamodel.html#object.__ne__), [`__gt__`](https://docs.python.org/3/reference/datamodel.html#object.__gt__), [`__ge__`](https://docs.python.org/3/reference/datamodel.html#object.__ge__)\n",
    "\n",
    "- These allow objects to be used with comparison operators\n",
    "- For using the built in function `sorted()`, we only need to define `__lt__`\n",
    "- The default of `__ne__` is the not of `__eq__`\n",
    "- We can leverage the decorator [`@functools.total_ordering`](https://docs.python.org/3/library/functools.html#functools.total_ordering) meaning that we only need to define `__eq__` and one of `__lt__`,  `__le__`, `__gt__`, `__ge__` and the decorator will automatically define the others\n",
    "\n",
    "\n",
    "| Dunder method | Operator |\n",
    "| ------------- | -------- |\n",
    "| `__lt__`      | `<`      |\n",
    "| `__le__`      | `<=`     |\n",
    "| `__eq__`      | `==`     |\n",
    "| `__ne__`      | `!=`     |\n",
    "| `__gt__`      | `>`      |\n",
    "| `__ge__`      | `>=`     |"
   ]
  },
  {
   "cell_type": "markdown",
   "id": "optical-charge",
   "metadata": {},
   "source": [
    "### [`__hash__`](https://docs.python.org/3/reference/datamodel.html#object.__hash__)\n",
    "\n",
    "- This allows the built in function `hash()` to be applied on the object\n",
    "- Normally, this is defined using `hash()` on the uniquely distinguishing attributes of the object\n",
    "- `__hash__` method has to be compatible with `__eq__` method\n",
    "- Importantly, if this dunder method is defined then we can use the object as keys in a `dict` and store in a `set`"
   ]
  },
  {
   "cell_type": "markdown",
   "id": "lightweight-hartford",
   "metadata": {},
   "source": [
    "### [`__call__`](https://docs.python.org/3/reference/datamodel.html#object.__call__)\n",
    "\n",
    "- This makes the object callable meaning you can run `object_instance()` like a function"
   ]
  },
  {
   "cell_type": "markdown",
   "id": "destroyed-foster",
   "metadata": {},
   "source": [
    "### [`__getitem__`](https://docs.python.org/3/reference/datamodel.html#object.__getitem__), [`__setitem__`](https://docs.python.org/3/reference/datamodel.html#object.__setitem__), [`__delitem__`](https://docs.python.org/3/reference/datamodel.html#object.__delitem__)\n",
    "\n",
    "- These dunder methods allow the object to have container like properties so that we can use `object_instance[key]` for `__getitem__` and `__setitem__`\n",
    "- We can use `del object_instance[key]` which calls `__delitem__`"
   ]
  },
  {
   "cell_type": "markdown",
   "id": "boolean-railway",
   "metadata": {},
   "source": [
    "### [`__iter__`](https://docs.python.org/3/reference/datamodel.html#object.__iter__)\n",
    "\n",
    "- This allows the object to be iterated through using built in `iter()` or through a `for item in object_instance`"
   ]
  },
  {
   "cell_type": "markdown",
   "id": "closing-virgin",
   "metadata": {},
   "source": [
    "### [`__contains__`](https://docs.python.org/3/reference/datamodel.html#object.__contains__)\n",
    "\n",
    "- This dunder method outputs a boolean and allows for `item in object_instance`"
   ]
  },
  {
   "cell_type": "markdown",
   "id": "identified-trunk",
   "metadata": {},
   "source": [
    "### [`__add__`](https://docs.python.org/3/reference/datamodel.html#object.__add__)\n",
    "\n",
    "This dunder method makes using the add operator `+` possible for the object"
   ]
  },
  {
   "cell_type": "code",
   "execution_count": 39,
   "id": "multiple-preparation",
   "metadata": {},
   "outputs": [],
   "source": [
    "class Fruit:\n",
    "    \n",
    "    def __init__(self, name):\n",
    "        self.name = name\n",
    "    \n",
    "    def __add__(self, other):\n",
    "        return self.name + ' and ' + other.name"
   ]
  },
  {
   "cell_type": "code",
   "execution_count": 40,
   "id": "binding-hello",
   "metadata": {},
   "outputs": [
    {
     "name": "stdout",
     "output_type": "stream",
     "text": [
      "Apple and Banana\n"
     ]
    }
   ],
   "source": [
    "apple = Fruit(name='Apple')\n",
    "banana = Fruit(name='Banana')\n",
    "\n",
    "print(apple + banana)"
   ]
  },
  {
   "cell_type": "markdown",
   "id": "outstanding-fourth",
   "metadata": {},
   "source": [
    "If we define the `__add__` dunder method can we use the built in function `sum()`?\n",
    "\n",
    "To do this we have to do a bit more work. When we add two objects firstly the output should be the same type of object. Secondly, `sum()` is defined by default for numbers but we can use its second argument `start` to input a start value object\n"
   ]
  },
  {
   "cell_type": "code",
   "execution_count": 41,
   "id": "governmental-moscow",
   "metadata": {},
   "outputs": [],
   "source": [
    "class Fruit:\n",
    "    \n",
    "    def __init__(self, name):\n",
    "        self.name = name\n",
    "    \n",
    "    def __add__(self, other):\n",
    "        return Fruit(name=self.name + ' and ' + other.name)"
   ]
  },
  {
   "cell_type": "code",
   "execution_count": 44,
   "id": "blind-curve",
   "metadata": {},
   "outputs": [
    {
     "name": "stdout",
     "output_type": "stream",
     "text": [
      "Apple and Banana and Cherry\n"
     ]
    }
   ],
   "source": [
    "apple = Fruit(name='Apple')\n",
    "banana = Fruit(name='Banana')\n",
    "cherry = Fruit(name='Cherry')\n",
    "\n",
    "fruit_sum = sum([banana, cherry], start=apple)\n",
    "\n",
    "print(fruit_sum.name)"
   ]
  },
  {
   "cell_type": "markdown",
   "id": "signal-utility",
   "metadata": {},
   "source": [
    "- We also have other \"numeric\" operation dunder methods:\n",
    "\n",
    "| Dunder Method  | Operator |\n",
    "| -------------- | -------- |\n",
    "| [`__sub__`](https://docs.python.org/3/reference/datamodel.html#object.__sub__)      | `-`      |\n",
    "| [`__mult__`](https://docs.python.org/3/reference/datamodel.html#object.__mult__)     | `*`      |\n",
    "| [`__matmult__`](https://docs.python.org/3/reference/datamodel.html#object.__matmult__)  | `@`      |\n",
    "| [`__truediv__`](https://docs.python.org/3/reference/datamodel.html#object.__truediv__)  | `/`      |\n",
    "| [`__floordiv__`](https://docs.python.org/3/reference/datamodel.html#object.__floordiv__) | `//`     |\n",
    "| [`__mod__`](https://docs.python.org/3/reference/datamodel.html#object.__mod__)      | `%`      |\n",
    "| [`__pow__`](https://docs.python.org/3/reference/datamodel.html#object.__pow__)      | `**`     |\n",
    "| [`__and__`](https://docs.python.org/3/reference/datamodel.html#object.__and__)      | `and`    |\n",
    "| [`__or__`](https://docs.python.org/3/reference/datamodel.html#object.__or__)       | `or`     |"
   ]
  },
  {
   "cell_type": "markdown",
   "id": "growing-binary",
   "metadata": {},
   "source": [
    "### [`__i*__`](https://docs.python.org/3/reference/datamodel.html#object.__iadd__) and [`__r*__`](https://docs.python.org/3/reference/datamodel.html#object.__radd__)\n",
    "\n",
    "- The * here means all the \"numeric\" dunder methods defined above\n",
    "- `__i*__` allows for `*=` type operations\n",
    "- `__r*__` are called if the left objects do not have the dunder method defined"
   ]
  },
  {
   "cell_type": "markdown",
   "id": "liked-withdrawal",
   "metadata": {},
   "source": [
    "### Other Dunder Methods\n",
    "\n",
    "\n",
    "| Dunder Method  | Operator  |\n",
    "| -------------- | --------- |\n",
    "| [`__pos__`](https://docs.python.org/3/reference/datamodel.html#object.__pos__)      | `+x`      |\n",
    "| [`__neg__`](https://docs.python.org/3/reference/datamodel.html#object.__neg__)      | `-x`      |\n",
    "| [`__abs__`](https://docs.python.org/3/reference/datamodel.html#object.__abs__)      | `abs()`   |\n",
    "| [`__invert__`](https://docs.python.org/3/reference/datamodel.html#object.__invert__)   | `~x`      |\n",
    "| [`__round__`](https://docs.python.org/3/reference/datamodel.html#object.__round__)    | `round()` |\n",
    "| [`__floor__`](https://docs.python.org/3/reference/datamodel.html#object.__floor__)    | `floor()` |\n",
    "| [`__ceil__`](https://docs.python.org/3/reference/datamodel.html#object.__ceil__)     | `ceil()`  |"
   ]
  },
  {
   "cell_type": "markdown",
   "id": "august-cattle",
   "metadata": {},
   "source": [
    "## Immutability and [`Hashable`](https://docs.python.org/3.8/library/collections.abc.html#collections.abc.Hashable)\n",
    "\n",
    "- Immutable and `Hashable` objects are not the same but are closely linked\n",
    "- *Immutable* Python objects cannot be changed in its lifetime once created, whereas objects that can be changed are *mutable*\n",
    "- The hash function of an object is defined through `__hash__`, by defining this for an object, we make the object `Hashable`\n",
    "    - One easy way to define this function is to make a string that uniquely defines the object and to hash that string \n",
    "- One of the major benefits of a `Hashable` object is that we can use them as keys in a `dict` and items in `set` giving us O(1) look up complexity\n",
    "- The idea behind a `Hashable` object is that its hash should never change, therefore it makes sense to make immutable objects `Hashable` as we know that immutable objects will never change in their lifetime\n",
    "- We can define `__hash__` for mutable objects but it is discouraged as the hash of the object will change if the object changes and would not match within `dict` or `set` after a change causing unintended consequences"
   ]
  },
  {
   "cell_type": "markdown",
   "id": "essential-million",
   "metadata": {},
   "source": [
    "## Nulls\n",
    "\n",
    "- In Python we have the startard type agnostic value [`None`](https://docs.python.org/3/library/constants.html#None)\n",
    "- This is useful in many situations, mainly it is very when you have optional arguments in a function\n",
    "- To check if a variable `x` is None by `x in None` **instead of** `x == None`"
   ]
  },
  {
   "cell_type": "markdown",
   "id": "driven-schema",
   "metadata": {},
   "source": [
    "## [Booleans](https://docs.python.org/3/library/stdtypes.html#truth-value-testing)\n",
    "\n",
    "- In Python we have boolean values [`True`](https://docs.python.org/3/library/constants.html#True) and [`False`](https://docs.python.org/3/library/constants.html#False) of type `bool`\n",
    "- We also have boolean operators `and`, `or` and `not`"
   ]
  },
  {
   "cell_type": "markdown",
   "id": "unable-comment",
   "metadata": {},
   "source": [
    "## [Numerics](https://docs.python.org/3/library/stdtypes.html#numeric-types-int-float-complex)\n",
    "\n",
    "- We have numeric types `int`, `float` and `complex`\n",
    "- When we create a number if it has no decimal point (e.g. `1`) then it will default to be type `int` if we want to force that number to be a `float` then we can add a decimal point (e.g. `1.`) or cast (e.g. `float(1)`)\n",
    "- We do not need to cast between `int` and `float` when we do division\n",
    "- Operators:\n",
    "\n",
    "| Operator                    | Syntax                           |\n",
    "| --------------------------- | -------------------------------- |\n",
    "| Addition                    | `x + y`                          |\n",
    "| Substration                 | `x - y`                          |\n",
    "| Multiplication              | `x * y`                          |\n",
    "| Division                    | `x / y`                          |\n",
    "| Power                       | `x ** y` or `pow(x, y)`          |\n",
    "| Absolute value              | `abs(x, y)`                      |\n",
    "| Round                       | `round(x, dp=0)`                 |\n",
    "| Quotient (integer division) | `x // y`                         |\n",
    "| Remainder                   | `x % y`                          |\n",
    "| Quotient and remainder      | `divmod(x, y) = (x // y, x % y)` |\n",
    "| Cast integer                | `int(x)`                         |\n",
    "| Cast float                  | `float(x)`                       |\n",
    "| Cast complex                | `complex(re, im=0)`              |\n",
    "| Complex conjugate           | `x.conjugate()`                  |\n",
    "| Equality                    | `x == y`                         |\n",
    "| Greater than (or equal)     | `x > y` or `x >= y`              |\n",
    "| Less than (or equal)        | `x < y` or `x <= y`              |"
   ]
  },
  {
   "cell_type": "markdown",
   "id": "immune-miami",
   "metadata": {},
   "source": [
    "## Iterators\n",
    "\n",
    "- Iterators are very important, an iterator is an object which defines two methods `__iter__` and `__next__` forming the *iterator protocol*\n",
    "- To iterate through a container, there needs to be an `__iter__` method defined which returns an iterator as the output\n",
    "- We can do an iteration using `for item in x` where implicity we will be iterating through the iterator of `x`; `iter(x)`"
   ]
  },
  {
   "cell_type": "markdown",
   "id": "numerical-means",
   "metadata": {},
   "source": [
    "## Generators\n",
    "\n",
    "# todo"
   ]
  },
  {
   "cell_type": "markdown",
   "id": "third-exclusive",
   "metadata": {},
   "source": [
    "## [Sequences](https://docs.python.org/3/library/stdtypes.html#typesseq)\n",
    "\n",
    "- Three main types of sequences in Python are [`list`](https://docs.python.org/3/library/stdtypes.html#lists), [`tuple`](https://docs.python.org/3/tutorial/datastructures.html#tuples-and-sequences) and [`range`](https://docs.python.org/3/library/stdtypes.html#range)\n",
    "- `list` is a *mutable* sequence whereas `tuple` and `range` are *immutable* sequences\n",
    "- Sequences are useful for holding data, these are indexed giving us O(1) complexity for access\n",
    "- We have the following methods for sequences:\n",
    "    - Abstract: `__getitem__`, `__len__`\n",
    "    - Mixin: `__contains__`, `__iter__`, `__reversed__`, `index`, `count`\n",
    "- Indexing starts at `0` and `-1` represents last element\n",
    "- We can use negative indexing to say we want the last `n` elements by `s[-n:]`\n",
    "- This gives us the following operations:\n",
    "\n",
    "| Operator                       | Syntax             | [Average complexity](https://www.ics.uci.edu/~pattis/ICS-33/lectures/complexitypython.txt)   |\n",
    "| ------------------------------ | ------------------ | -------------------- |\n",
    "| Length                         | `len(s)`           | O(1)                 |\n",
    "| Contains                       | `x in s`           | O(n)                 |\n",
    "| Does not contain               | `x not in s`       | O(n)                 |\n",
    "| Iterate through                | `for x in s`       | O(n)                 |\n",
    "| Get `i`-th item                | `s[i]`             | O(1)                 |\n",
    "| Get slice `i <= k < j`         | `s[i:j]`           | O(j - i)             |\n",
    "| Get slice with step            | `s[i:k:j]`         | O((j - i) // k)      |\n",
    "| Concatenation                  | `s1 + s2`          | O(len(s1) + len(s2)) |\n",
    "| Concatenating itself `k` times | `s * k` or `k * s` | O(k * n)             |\n",
    "| Get reversed iterator          | `reversed(s)`      | O(n)                 |\n",
    "| Minimum                        | `min(s)`           | O(n)                 |\n",
    "| Maximum                        | `max(s)`           | O(n)                 |\n",
    "| Find first index of item       | `s.index(x)`       | O(n)                 |\n",
    "| Count number of item           | `s.count(x)`       | O(n)                 |\n",
    "\n",
    "- These operations are for both mutable and immutable sequences\n",
    "- We have a few extra methods on top for mutable sequences:\n",
    "    - Abstract: `__setitem__`, `__delitem__`, `insert`\n",
    "    - Mixin: `append`, `reverse`, `extend`, `pop`, `remove`, `__iadd__`\n",
    "- Again we get following additional operations for mutable sequences:\n",
    "\n",
    "| Operator                       | Syntax             | [Average complexity](https://www.ics.uci.edu/~pattis/ICS-33/lectures/complexitypython.txt)  |\n",
    "| ------------------------------ | ------------------ | ------------------- |\n",
    "| Construction                   | `list(...)` or `[...]` | O(n)           |\n",
    "| Set `i`-th item                | `s[i] = x`         | O(1)                |\n",
    "| Delete `i`-th item             | `del s[i]`         | O(n)                |\n",
    "| Insert item at index `i`       | `s.insert(i, x)`   | O(n)                |\n",
    "| Append                         | `s.append(x)`      | O(1)                |\n",
    "| Reverse                        | `s.reverse()`      | O(n)                |\n",
    "| Extend                         | `s1.extend(s2)`    | O(len(s2))          |\n",
    "| Pop last                       | `s.pop()`          | O(1)                |\n",
    "| Pop `i`-th item                | `s.pop(i)`         | O(n)                |\n",
    "| Pop first occurence of item    | `s.remove(x)`      | O(n)                |"
   ]
  },
  {
   "cell_type": "markdown",
   "id": "common-activation",
   "metadata": {},
   "source": [
    "## [`str`](https://docs.python.org/3/library/stdtypes.html#text-sequence-type-str)"
   ]
  },
  {
   "cell_type": "markdown",
   "id": "buried-surveillance",
   "metadata": {},
   "source": [
    "- Python strings is one of most useful classes\n",
    "- Strings are immutable sequences of Unicode code points\n",
    "- When you get a single part of a string, the type still stays `str`, i.e. there is not single \"character\" type in python\n",
    "- We can create a `str` using the following methods\n",
    "    - Single quotes: This uses the apostrophe character `'`, e.g. `'hello'`\n",
    "    - Double quotes: This uses the double quote character `\"`, e.g. `\"hello\"`\n",
    "    - Triple quotes: This uses either triple apostrophes `'''` or triple double quotes `\"\"\"`, e.g. `'''hello'''` or `\"\"\"hello\"\"\"`\n",
    "- All the strings created above are the same, it does not matter which method we create them\n",
    "- If we need apostrophes within the string that it is useful to use double quotes as the start and end identifier and vice versa\n",
    "- The triple quotes are super useful when we want to create a multi line string and want to preserve the format"
   ]
  },
  {
   "cell_type": "code",
   "execution_count": 58,
   "id": "heated-causing",
   "metadata": {},
   "outputs": [
    {
     "name": "stdout",
     "output_type": "stream",
     "text": [
      "True\n"
     ]
    }
   ],
   "source": [
    "single_quote = 'hello'\n",
    "double_quote = \"hello\"\n",
    "triple_quote = '''hello'''\n",
    "\n",
    "print((single_quote == double_quote) and (double_quote == triple_quote))"
   ]
  },
  {
   "cell_type": "code",
   "execution_count": 80,
   "id": "prostate-accused",
   "metadata": {},
   "outputs": [
    {
     "name": "stdout",
     "output_type": "stream",
     "text": [
      "\n",
      "Hello!\n",
      "\n",
      "This is fun...\n",
      "\n"
     ]
    }
   ],
   "source": [
    "triple_quote_with_multiple_lines = '''\n",
    "Hello!\n",
    "\n",
    "This is fun...\n",
    "'''\n",
    "\n",
    "print(triple_quote_with_multiple_lines)"
   ]
  },
  {
   "cell_type": "markdown",
   "id": "competent-shooting",
   "metadata": {},
   "source": [
    "- There are different [string literals](https://docs.python.org/3/reference/lexical_analysis.html#strings) with prefixes `r`, `u`, `f` and `rf`\n",
    "- These literals are used to create strings in different modes:\n",
    "    - `r'\\nabc'` ignores any special characters such as `\\n`\n",
    "    - `f'Today is {variable}'` allows to input variables with format with more details [here](https://docs.python.org/3/reference/lexical_analysis.html#formatted-string-literals), f-strings are generally amazing\n",
    "    - `u'abc'` is unicode"
   ]
  },
  {
   "cell_type": "code",
   "execution_count": 84,
   "id": "placed-arena",
   "metadata": {},
   "outputs": [
    {
     "name": "stdout",
     "output_type": "stream",
     "text": [
      "I have 123.432 apples?\n",
      "I have 123 apples\n"
     ]
    }
   ],
   "source": [
    "fruit = 'apple'\n",
    "\n",
    "number = 123.432\n",
    "f_string = f'I have {number} {fruit}s?'\n",
    "print(f_string)\n",
    "\n",
    "f_string = f'I have {number:.0f} {fruit}s'\n",
    "print(f_string)\n"
   ]
  },
  {
   "cell_type": "markdown",
   "id": "metallic-timothy",
   "metadata": {},
   "source": [
    "- We can find all implemented methods through `dir(str)`\n",
    "- Going between strings and lists with a specific separator using `str.split()` and `str.join(iterable)`"
   ]
  },
  {
   "cell_type": "code",
   "execution_count": 88,
   "id": "ignored-comedy",
   "metadata": {},
   "outputs": [
    {
     "name": "stdout",
     "output_type": "stream",
     "text": [
      "apple, banana, cherry\n",
      "['apple', 'banana', 'cherry']\n"
     ]
    }
   ],
   "source": [
    "fruits_list = ['apple', 'banana', 'cherry']\n",
    "fruits_str = ', '.join(fruits)\n",
    "print(fruits_str)\n",
    "print(fruits_str.split(', '))"
   ]
  },
  {
   "cell_type": "markdown",
   "id": "immediate-preliminary",
   "metadata": {},
   "source": [
    "## [`bytes`](https://docs.python.org/3/library/stdtypes.html#binary-sequence-types-bytes-bytearray-memoryview)\n",
    "\n",
    "- We can create `bytes` in the same way as we do `str` but with a prefix `b`, for example; `b'byte_example'`\n",
    "- `bytes` are also immutable sequences\n",
    "- I have never used these"
   ]
  },
  {
   "cell_type": "markdown",
   "id": "noted-schema",
   "metadata": {},
   "source": [
    "## [`set`, `frozenset`](https://docs.python.org/3/library/stdtypes.html#set-types-set-frozenset)\n",
    "\n",
    "- Sequences are very useful but for certain purposes they are not very efficient, for example if we want to check if an item is contained in a sequence it is O(n) complexity\n",
    "- This is where sets come in useful, they have a O(1) complexity to check if an item is contained within it, this is because the items are hashed inside the set\n",
    "- Sets are however an unordered collection without `__getitem__` defined so we cannot index into a set\n",
    "- `set` is mutable and `frozenset` is immutable (similar to `list` and `tuple`)\n",
    "- We have the following methods for sets in general:\n",
    "    - Abstract: `__contains__`, `__len__`, `__iter__`\n",
    "    - Mixin: `__le__`, `__lt__`, `__eq__`, `__ne__`, `__gt__`, `__ge__`, `__and__`, `__or__`, `__sub__`, `__xor__`, `isdisjoint`\n",
    "\n",
    "| Operator                       | Syntax              | [Average complexity](https://www.ics.uci.edu/~pattis/ICS-33/lectures/complexitypython.txt)   |\n",
    "| ------------------------------ | ------------------  | --------------------  |\n",
    "| Length                         | `len(s)`            | O(1)                  |\n",
    "| Contains                       | `x in s`            | O(1)                  |\n",
    "| Does not contain               | `x not in s`        | O(1)                  |\n",
    "| Iterate through                | `for x in s`        | O(n)                  |\n",
    "| Check (strict) subset          | `s1<=s2` or `s1<s2` | O(len(s1))            |\n",
    "| Union                          | `s1 \\| s2`          | O(len(s1) + len(s2))  |\n",
    "| Intersection                   | `s1 & s2`           |  O(len(s1) + len(s2)) |\n",
    "| Difference                     | `s1 - s2`           |  O(len(s1) + len(s2)) |\n",
    "| Symmetric Difference           | `s1 ^ s2`           |  O(len(s1) + len(s2)) |\n",
    "| Concatenation                  | `s1 + s2`           | O(len(s1) + len(s2))  |\n",
    "    \n",
    "- In addition for mutable sets we have:\n",
    "    - Abstract: `add`, `discard`\n",
    "    - Mixin: `clear`, `pop`, `remove`, `__ior__`, `__iand__`, `__ixor__`, `__isub__`\n",
    "\n",
    "\n",
    "| Operator                                 | Syntax              | [Average complexity](https://www.ics.uci.edu/~pattis/ICS-33/lectures/complexitypython.txt)   |\n",
    "| ------------------------------           | ------------------  | --------------------  |\n",
    "| Add item                                 | `s.add(item)`       | O(1)                  |\n",
    "| Remove item (raises error if not exists) | `s.remove(item)`    | O(1)                  |\n",
    "| Remove item if exists                    | `s.discard(item)`   | O(1)                  |\n",
    "| Remove and return random item            | `s.pop(item)`       | O(1)                  |\n",
    "    \n",
    "- We can create a `set` using `{...}` or `set()` and for the immutable version we have `frozenset()`\n",
    "- Note `{}` will not create an empty but an empty `dict` so to create an empty set you have to use `set()`\n"
   ]
  },
  {
   "cell_type": "code",
   "execution_count": 92,
   "id": "steady-trade",
   "metadata": {},
   "outputs": [
    {
     "name": "stdout",
     "output_type": "stream",
     "text": [
      "Is apple in my fruit bowl?: True\n",
      "Is coconut in my fruit bowl?: False\n"
     ]
    }
   ],
   "source": [
    "fruit_bowl = {'apple', 'banana', 'cherry'}\n",
    "\n",
    "apple_in_fruit_bowl = 'apple' in fruit_bowl\n",
    "print(f'Is apple in my fruit bowl?: {apple_in_fruit_bowl}')\n",
    "\n",
    "coconut_in_fruit_bowl = 'cononut' in fruit_bowl\n",
    "print(f'Is coconut in my fruit bowl?: {coconut_in_fruit_bowl}')"
   ]
  },
  {
   "cell_type": "code",
   "execution_count": 101,
   "id": "determined-confusion",
   "metadata": {},
   "outputs": [
    {
     "name": "stdout",
     "output_type": "stream",
     "text": [
      "Intersection: {'apple', 'banana'}\n",
      "Set difference: {'cherry'}\n",
      "Subset: True\n"
     ]
    }
   ],
   "source": [
    "fruit_bowl = {'apple', 'banana', 'cherry'}\n",
    "another_fruit_bowl = set(['apple', 'banana'])\n",
    "\n",
    "print(f'Intersection: {fruit_bowl.intersection(another_fruit_bowl)}')\n",
    "print(f'Set difference: {fruit_bowl - another_fruit_bowl}')\n",
    "print(f'Subset: {another_fruit_bowl <= fruit_bowl}')"
   ]
  },
  {
   "cell_type": "markdown",
   "id": "automotive-satin",
   "metadata": {},
   "source": [
    "## [`dict`](https://docs.python.org/3/library/stdtypes.html#mapping-types-dict)"
   ]
  }
 ],
 "metadata": {
  "kernelspec": {
   "display_name": "Python 3",
   "language": "python",
   "name": "python3"
  },
  "language_info": {
   "codemirror_mode": {
    "name": "ipython",
    "version": 3
   },
   "file_extension": ".py",
   "mimetype": "text/x-python",
   "name": "python",
   "nbconvert_exporter": "python",
   "pygments_lexer": "ipython3",
   "version": "3.8.8"
  }
 },
 "nbformat": 4,
 "nbformat_minor": 5
}
