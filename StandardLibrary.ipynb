{
 "cells": [
  {
   "cell_type": "code",
   "execution_count": 1,
   "id": "geological-applicant",
   "metadata": {},
   "outputs": [],
   "source": [
    "from IPython.display import Markdown"
   ]
  },
  {
   "cell_type": "markdown",
   "id": "standard-handling",
   "metadata": {},
   "source": [
    "# Python Standard Library"
   ]
  },
  {
   "cell_type": "markdown",
   "id": "helpful-reserve",
   "metadata": {},
   "source": [
    "## General \n",
    "- Everything in Python is a class"
   ]
  },
  {
   "cell_type": "markdown",
   "id": "august-cattle",
   "metadata": {},
   "source": [
    "## Immutability and `Hashable`\n",
    "\n",
    "- Immutable and `Hashable` objects are not the same but are closely linked\n",
    "- *Immutable* Python objects cannot be changed in its lifetime once created, whereas objects that can be changed are *mutable*\n",
    "- The hash function of an object is defined through `__hash__`, by defining this for an object, we make the object `Hashable`\n",
    "    - One easy way to define this function is to make a string that uniquely defines the object and to hash that string \n",
    "- One of the major benefits of a `Hashable` object is that we can use them as keys in a `dict` and items in `set` giving us O(1) look up complexity\n",
    "- The idea behind a `Hashable` object is that its hash should never change, therefore it makes sense to make immutable objects `Hashable` as we know that immutable objects will never change in their lifetime\n",
    "- We can define `__hash__` for mutable objects but it is discouraged as the hash of the object will change if the object changes and would not match within `dict` or `set` after a change causing unintended consequences"
   ]
  },
  {
   "cell_type": "markdown",
   "id": "essential-million",
   "metadata": {},
   "source": [
    "## Nulls\n",
    "\n",
    "- In Python we have the startard type agnostic value `None`\n",
    "- This is useful in many situations, mainly it is very when you have optional arguments in a function\n",
    "- To check if a variable `x` is None by `x in None` **instead of** `x == None`"
   ]
  },
  {
   "cell_type": "markdown",
   "id": "driven-schema",
   "metadata": {},
   "source": [
    "## Booleans\n",
    "\n",
    "- In Python we have boolean values `True` and `False` of type `bool`\n",
    "- We also have boolean operators `and`, `or` and `not`"
   ]
  },
  {
   "cell_type": "markdown",
   "id": "unable-comment",
   "metadata": {},
   "source": [
    "## Numerics\n",
    "\n",
    "- We have numeric types `int`, `float` and `complex`\n",
    "- We do not need to cast between `int` and `float` when we do division\n",
    "- Operators:\n",
    "\n",
    "| Operator                    | Syntax                           |\n",
    "| --------------------------- | -------------------------------- |\n",
    "| Addition                    | `x + y`                          |\n",
    "| Substration                 | `x - y`                          |\n",
    "| Multiplication              | `x * y`                          |\n",
    "| Division                    | `x / y`                          |\n",
    "| Power                       | `x ** y` or `pow(x, y)`          |\n",
    "| Absolute value              | `abs(x, y)`                      |\n",
    "| Round                       | `round(x, dp=0)`                 |\n",
    "| Quotient (integer division) | `x // y`                         |\n",
    "| Remainder                   | `x % y`                          |\n",
    "| Quotient and remainder      | `divmod(x, y) = (x // y, x % y)` |\n",
    "| Cast integer                | `int(x)`                         |\n",
    "| Cast float                  | `float(x)`                       |\n",
    "| Cast complex                | `complex(re, im=0)`              |\n",
    "| Complex conjugate           | `x.conjugate()`                  |\n",
    "| Equality                    | `x == y`                         |\n",
    "| Greater than (or equal)     | `x > y` or `x >= y`              |\n",
    "| Less than (or equal)        | `x < y` or `x <= y`              |"
   ]
  },
  {
   "cell_type": "markdown",
   "id": "immune-miami",
   "metadata": {},
   "source": [
    "## Iterators\n",
    "\n",
    "- Iterators are very important, an iterator is an object which defines two methods `__iter__` and `__next__` forming the *iterator protocol*\n",
    "- To iterate through a container, there needs to be an `__iter__` method defined which returns an iterator as the output\n",
    "- We can do an iteration using `for item in x` where implicity we will be iterating through the iterator of `x`; `iter(x)`"
   ]
  },
  {
   "cell_type": "markdown",
   "id": "numerical-means",
   "metadata": {},
   "source": [
    "## Generators\n",
    "\n",
    "# todo"
   ]
  },
  {
   "cell_type": "markdown",
   "id": "third-exclusive",
   "metadata": {},
   "source": [
    "## Sequences\n",
    "\n",
    "- Three main types of sequences in Python are `list`, `tuple` and `range`\n",
    "- `list` is a *mutable* sequence whereas `tuple` and `range` are *immutable* sequences\n",
    "- Sequences are useful for holding data, these are indexed giving us O(1) complexity for access\n",
    "- We have the following methods for sequences:\n",
    "    - Abstract: `__getitem__`, `__len__`\n",
    "    - Mixin: `__contains__`, `__iter__`, `__reversed__`, `index`, `count`\n",
    "- Indexing starts at `0` and `-1` represents last element\n",
    "- We can use negative indexing to say we want the last `n` elements by `s[-n:]`\n",
    "- This gives us the following operations:\n",
    "\n",
    "| Operator                       | Syntax             | Average Complexity  |\n",
    "| ------------------------------ | ------------------ | ------------------- |\n",
    "| Length                         | `len(s)`           | O(1)                |\n",
    "| Contains                       | `x in s`           | O(n)                |\n",
    "| Does not contain               | `x not in s`       | O(n)                |\n",
    "| Iterate through                | `for x in s`       | O(n)                |\n",
    "| Get `i`-th item                | `s[i]`             | O(1)                |\n",
    "| Get slice `i <= k < j`         | `s[i:j]`           | O(j - i)            |\n",
    "| Get slice with step            | `s[i:k:j]`         | O((j - i) // k)     |\n",
    "| Concatenation                  | `s1 + s2`          | O(n + m)            |\n",
    "| Concatenating itself `i` times | `s * i` or `i * s` | O(i * n)            |\n",
    "| Get reversed iterator          | `reversed(s)`      | O(n)                |\n",
    "| Minimum                        | `min(s)`           | O(n)                |\n",
    "| Maximum                        | `max(s)`           | O(n)                |\n",
    "| Find first index of item       | `s.index(x)`       | O(n)                |\n",
    "| Count number of item           | `s.count(x)`       | O(n)                |\n",
    "\n",
    "- These operations are for both *mutable* and *immutable* sequences\n",
    "- We have a few extra methods on top for mutable sequences:\n",
    "    - Abstract: `__setitem__`, `__delitem__`, `insert`\n",
    "    - Mixin: `append`, `reverse`, `extend`, `pop`, `remove`, `__iadd__`\n",
    "- Again we get following additional operations for mutable sequences:\n",
    "\n",
    "| Operator                       | Syntax             | Average Complexity  |\n",
    "| ------------------------------ | ------------------ | ------------------- |\n",
    "| Set `i`-th item                | `s[i] = x`         | O(1)                |\n",
    "| Delete `i`-th item             | `del s[i]`         | O(n)                |\n",
    "| Insert item at index `i`       | `s.insert(i, x)`   | O(n)                |\n",
    "| Append                         | `s.append(x)`      | O(1)                |\n",
    "| Reverse                        | `s.reverse()`      | O(n)                |\n",
    "| Extend                         | `s1.extend(s2)`    | O(len(s2))          |\n",
    "| Pop last                       | `s.pop()`          | O(1)                |\n",
    "| Pop `i`-th item                | `s.pop(i)`         | O(n)                |\n",
    "| Pop first occurence of item    | `s.remove(x)`      | O(n)                |"
   ]
  }
 ],
 "metadata": {
  "kernelspec": {
   "display_name": "Python 3",
   "language": "python",
   "name": "python3"
  },
  "language_info": {
   "codemirror_mode": {
    "name": "ipython",
    "version": 3
   },
   "file_extension": ".py",
   "mimetype": "text/x-python",
   "name": "python",
   "nbconvert_exporter": "python",
   "pygments_lexer": "ipython3",
   "version": "3.8.8"
  }
 },
 "nbformat": 4,
 "nbformat_minor": 5
}
